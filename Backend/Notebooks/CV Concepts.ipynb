{
 "cells": [
  {
   "cell_type": "code",
   "execution_count": 2,
   "id": "dd55019b-0f4c-455b-816e-4c13717dc312",
   "metadata": {},
   "outputs": [],
   "source": [
    "import cv2\n",
    "from PIL import Image"
   ]
  },
  {
   "cell_type": "code",
   "execution_count": 3,
   "id": "aa7b3dfd-41ac-4d9d-853d-bdf72dddd280",
   "metadata": {},
   "outputs": [
    {
     "data": {
      "text/plain": [
       "array([[206, 206, 206, ..., 185, 185, 185],\n",
       "       [206, 206, 206, ..., 185, 185, 185],\n",
       "       [206, 206, 206, ..., 186, 185, 185],\n",
       "       ...,\n",
       "       [207, 207, 207, ..., 191, 190, 190],\n",
       "       [207, 207, 207, ..., 191, 190, 190],\n",
       "       [207, 207, 207, ..., 191, 191, 190]], dtype=uint8)"
      ]
     },
     "execution_count": 3,
     "metadata": {},
     "output_type": "execute_result"
    }
   ],
   "source": [
    "img = cv2.imread(\"clear_image.jpg\",flags=cv2.IMREAD_GRAYSCALE)\n",
    "img"
   ]
  },
  {
   "cell_type": "code",
   "execution_count": 5,
   "id": "47e06c73-5a6d-478a-86ec-4c71c009e258",
   "metadata": {},
   "outputs": [],
   "source": [
    "Image.fromarray(img).show()"
   ]
  },
  {
   "cell_type": "code",
   "execution_count": 8,
   "id": "642a518b-b2fa-4b70-a4ba-5cca26637503",
   "metadata": {},
   "outputs": [],
   "source": [
    "_,new_img = cv2.threshold(img,150,255,cv2.THRESH_BINARY)\n",
    "Image.fromarray(new_img).show()"
   ]
  },
  {
   "cell_type": "code",
   "execution_count": 9,
   "id": "e9da37af-5eb3-47da-8a4c-0e19d199915d",
   "metadata": {},
   "outputs": [
    {
     "data": {
      "text/plain": [
       "array([[206, 206, 206, ..., 187, 186, 184],\n",
       "       [206, 206, 206, ..., 186, 185, 185],\n",
       "       [206, 206, 206, ..., 186, 185, 185],\n",
       "       ...,\n",
       "       [162, 157, 152, ..., 184, 184, 184],\n",
       "       [160, 156, 152, ..., 184, 184, 184],\n",
       "       [156, 158, 158, ..., 184, 184, 184]], dtype=uint8)"
      ]
     },
     "execution_count": 9,
     "metadata": {},
     "output_type": "execute_result"
    }
   ],
   "source": [
    "img1 = cv2.imread(\"dark_image.jpg\",flags=cv2.IMREAD_GRAYSCALE)\n",
    "img1"
   ]
  },
  {
   "cell_type": "code",
   "execution_count": 12,
   "id": "7993e978-a50a-4495-8cab-81f9e8c0aa26",
   "metadata": {},
   "outputs": [],
   "source": [
    "# This is simple Thresholding\n",
    "\n",
    "_,new_img1 = cv2.threshold(img1,120,255,cv2.THRESH_BINARY)\n",
    "Image.fromarray(new_img1).show()"
   ]
  },
  {
   "cell_type": "code",
   "execution_count": 14,
   "id": "44eb802f-8556-491c-aaf3-90de191cf7f9",
   "metadata": {},
   "outputs": [],
   "source": [
    "# This is Adaptive Thresholding\n",
    "\n",
    "new_img2 = cv2.adaptiveThreshold(\n",
    "    img1,255,\n",
    "    cv2.ADAPTIVE_THRESH_GAUSSIAN_C,\n",
    "    cv2.THRESH_BINARY,\n",
    "    61,\n",
    "    11    \n",
    ")\n",
    "Image.fromarray(new_img2).show()"
   ]
  },
  {
   "cell_type": "code",
   "execution_count": null,
   "id": "6c25bc91-36c3-4ea2-b464-4c0cdbc35dea",
   "metadata": {},
   "outputs": [],
   "source": []
  }
 ],
 "metadata": {
  "kernelspec": {
   "display_name": "Python 3 (ipykernel)",
   "language": "python",
   "name": "python3"
  },
  "language_info": {
   "codemirror_mode": {
    "name": "ipython",
    "version": 3
   },
   "file_extension": ".py",
   "mimetype": "text/x-python",
   "name": "python",
   "nbconvert_exporter": "python",
   "pygments_lexer": "ipython3",
   "version": "3.8.10"
  }
 },
 "nbformat": 4,
 "nbformat_minor": 5
}
