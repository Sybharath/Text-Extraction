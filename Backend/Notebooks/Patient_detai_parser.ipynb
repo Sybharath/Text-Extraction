{
 "cells": [
  {
   "cell_type": "code",
   "execution_count": 1,
   "id": "5f38bf40-fa2c-4200-891d-fccd1dc5f51e",
   "metadata": {},
   "outputs": [],
   "source": [
    "from pdf2image import convert_from_path"
   ]
  },
  {
   "cell_type": "code",
   "execution_count": 44,
   "id": "40153f8c-9833-4f89-9359-b1cfac1bb730",
   "metadata": {},
   "outputs": [],
   "source": [
    "pages = convert_from_path(\"resources\\patient_details\\pd_2.pdf\",poppler_path=r'C:\\Release-24.02.0-0\\poppler-24.02.0\\Library\\bin')"
   ]
  },
  {
   "cell_type": "code",
   "execution_count": 45,
   "id": "dfb1793b-1b31-4835-b988-608fdb73a934",
   "metadata": {},
   "outputs": [
    {
     "data": {
      "text/plain": [
       "[<PIL.PpmImagePlugin.PpmImageFile image mode=RGB size=1500x2000 at 0x21280EF60D0>,\n",
       " <PIL.PpmImagePlugin.PpmImageFile image mode=RGB size=1992x2000 at 0x21280EF63A0>]"
      ]
     },
     "execution_count": 45,
     "metadata": {},
     "output_type": "execute_result"
    }
   ],
   "source": [
    "pages"
   ]
  },
  {
   "cell_type": "code",
   "execution_count": 46,
   "id": "ebb042a7-d9d1-4a58-bf23-1893e83c1aef",
   "metadata": {},
   "outputs": [],
   "source": [
    "# pages[0].show()"
   ]
  },
  {
   "cell_type": "code",
   "execution_count": 47,
   "id": "625f1d57-e50d-4ae8-bafd-7d22c4be63ba",
   "metadata": {},
   "outputs": [],
   "source": [
    "import pytesseract"
   ]
  },
  {
   "cell_type": "code",
   "execution_count": 48,
   "id": "0eff34a3-c9b8-49f7-a952-8b84eb8afbac",
   "metadata": {},
   "outputs": [
    {
     "name": "stdout",
     "output_type": "stream",
     "text": [
      "a\n",
      "\n",
      "Patient Medical Record\n",
      "\n",
      "Patient Information\n",
      "Jerry Lucas\n",
      "\n",
      "(279) 920-8204\n",
      "4218 Wheeler Ridge Dr\n",
      "\n",
      "Buffalo, New York, 14201\n",
      "United States\n",
      "\n",
      "In Case of Emergency\n",
      "\n",
      "Birth Date\n",
      "May 2 1998\n",
      "\n",
      "Weight:\n",
      "57\n",
      "\n",
      "Height:\n",
      "170\n",
      "\n",
      "Joe Lucas\n",
      "\n",
      "Home phone\n",
      "\n",
      "General Medical History\n",
      "\n",
      "4218 Wheeler Ridge Dr\n",
      "Buffalo, New York, 14201\n",
      "United States\n",
      "\n",
      "Work phone\n",
      "\n",
      "Chicken Pox (Varicelia):\n",
      "\n",
      "IMMUNE\n",
      "\n",
      "Have you had the Hepatitis B vaccination?\n",
      "\n",
      "Measles:\n",
      "\n",
      "NOT IMMUNE\n",
      "\n",
      "any Medical Problems (asthma, seizures, headaches):\n"
     ]
    }
   ],
   "source": [
    "pytesseract.pytesseract.tesseract_cmd = r'C:\\Program Files\\Tesseract-OCR\\tesseract.exe'\n",
    "text = pytesseract.image_to_string(pages[0],lang='eng')\n",
    "print(text)"
   ]
  },
  {
   "cell_type": "code",
   "execution_count": 59,
   "id": "73ce9299-33d9-4e2b-8778-cc73b9d3e380",
   "metadata": {},
   "outputs": [],
   "source": [
    "import numpy as np\n",
    "import cv2\n",
    "from PIL import Image\n",
    "def preprocess_image(img):\n",
    "    gray = cv2.cvtColor(np.array(img),cv2.COLOR_BGR2GRAY)\n",
    "    resized_img = cv2.resize(gray,None,fx=2.1,fy=2.1,interpolation=cv2.INTER_LINEAR)\n",
    "    procesed_image = cv2.adaptiveThreshold(\n",
    "        resized_img,\n",
    "        255,\n",
    "        cv2.ADAPTIVE_THRESH_GAUSSIAN_C,\n",
    "        cv2.THRESH_BINARY,\n",
    "        61,\n",
    "        11 \n",
    "    )\n",
    "    return procesed_image\n",
    "\n"
   ]
  },
  {
   "cell_type": "code",
   "execution_count": 60,
   "id": "2b70b7e2-f9cd-458f-b0b2-4e7e979d2c1a",
   "metadata": {},
   "outputs": [],
   "source": [
    "img = preprocess_image(pages[0])\n",
    "Image.fromarray(img).show()"
   ]
  },
  {
   "cell_type": "code",
   "execution_count": 61,
   "id": "8cf5eb04-7a19-4392-afe7-57e63e0dca8d",
   "metadata": {},
   "outputs": [
    {
     "name": "stdout",
     "output_type": "stream",
     "text": [
      "17/12/2020\n",
      "\n",
      "Patient Medical Record\n",
      "\n",
      "Patient Information Birth Date\n",
      "\n",
      "Jerry Lucas May 2 1998\n",
      "\n",
      "(279) 920-8204 Weight:\n",
      "\n",
      "4218 Wheeler Ridge Dr 97\n",
      "\n",
      "Buffalo, New York, 14201 Height:\n",
      "\n",
      "United States ; gn\n",
      "170\n",
      "\n",
      "In Case of Emergency ,\n",
      "es\n",
      "\n",
      "Joe Lucas . 4218 Wheeler Ridge Dr\n",
      "Buffalo, New York, 14201\n",
      "Home phone . United States\n",
      "Work phone\n",
      "\n",
      "General Medical History\n",
      "\n",
      "Chicken Pox (Varicelia): Measles: |\n",
      "IMMUNE NOT IMMUNE\n",
      "\n",
      "Have you had the Hepatitis B vaccination?\n",
      "Yes” |\n",
      "\n",
      "__ List any Medical Problems (asthma, seizures, headaches):\n",
      "N/A\n"
     ]
    }
   ],
   "source": [
    "pytesseract.pytesseract.tesseract_cmd = r'C:\\Program Files\\Tesseract-OCR\\tesseract.exe'\n",
    "text = pytesseract.image_to_string(img,lang='eng')\n",
    "print(text)"
   ]
  },
  {
   "cell_type": "markdown",
   "id": "7282df3e-2c27-4d49-9a8a-9af60aefd3fe",
   "metadata": {},
   "source": [
    "### Extract name"
   ]
  },
  {
   "cell_type": "code",
   "execution_count": 30,
   "id": "7b79e91a-929d-47c9-8dd0-aec4c4db84d5",
   "metadata": {},
   "outputs": [
    {
     "data": {
      "text/plain": [
       "'Birth Date\\nKathy Crawford May 6 1972'"
      ]
     },
     "execution_count": 30,
     "metadata": {},
     "output_type": "execute_result"
    }
   ],
   "source": [
    "import re\n",
    "\n",
    "pattern = 'Patient Information(.*?)\\(\\d{3}\\)'\n",
    "\n",
    "matches = re.findall(pattern, text,flags=re.DOTALL)\n",
    "matches[0].strip()"
   ]
  },
  {
   "cell_type": "code",
   "execution_count": 21,
   "id": "039ad47c-12f6-478e-97f5-d1c2f976c5d7",
   "metadata": {},
   "outputs": [
    {
     "data": {
      "text/plain": [
       "'Kathy Crawford May 6 1972'"
      ]
     },
     "execution_count": 21,
     "metadata": {},
     "output_type": "execute_result"
    }
   ],
   "source": [
    "match = matches[0].replace(\"Birth Date\",\"\").strip()\n",
    "match"
   ]
  },
  {
   "cell_type": "code",
   "execution_count": 26,
   "id": "3c66d3f3-808e-49f3-ab9a-f743a038f650",
   "metadata": {},
   "outputs": [],
   "source": [
    "pattern = '((Jan|Feb|MaApr|May|Jun|Jul|Aug) [ \\d]+)'\n",
    "date_matches = re.findall(pattern,match)\n",
    "date = date_matches[0][0]"
   ]
  },
  {
   "cell_type": "code",
   "execution_count": 27,
   "id": "89c751c1-aaa1-4b72-85f6-7e2f81c93fdc",
   "metadata": {},
   "outputs": [
    {
     "data": {
      "text/plain": [
       "'Kathy Crawford'"
      ]
     },
     "execution_count": 27,
     "metadata": {},
     "output_type": "execute_result"
    }
   ],
   "source": [
    "match.replace(date,\"\").strip()"
   ]
  },
  {
   "cell_type": "code",
   "execution_count": 35,
   "id": "6aa7e972-7112-4860-8ebc-4d731c8f5a2c",
   "metadata": {},
   "outputs": [],
   "source": [
    "def remove_noise_from_name(name):\n",
    "    match = matches[0].replace(\"Birth Date\",\"\").strip()\n",
    "    pattern = '((Jan|Feb|MaApr|May|Jun|Jul|Aug) [ \\d]+)'\n",
    "    date_matches = re.findall(pattern,match)\n",
    "\n",
    "    if date_matches:\n",
    "        date = date_matches[0][0]\n",
    "        match = match.replace(date,\"\").strip()\n",
    "    \n",
    "    return match"
   ]
  },
  {
   "cell_type": "code",
   "execution_count": 36,
   "id": "b1b8afb5-a6cd-4f15-9f93-d854ef2cdea2",
   "metadata": {},
   "outputs": [
    {
     "data": {
      "text/plain": [
       "'Kathy Crawford'"
      ]
     },
     "execution_count": 36,
     "metadata": {},
     "output_type": "execute_result"
    }
   ],
   "source": [
    "name = matches\n",
    "\n",
    "name = remove_noise_from_name(name)\n",
    "name"
   ]
  },
  {
   "cell_type": "markdown",
   "id": "2b7f12d2-6873-468e-ab53-4b48407e63e3",
   "metadata": {},
   "source": [
    "### Extract phone"
   ]
  },
  {
   "cell_type": "code",
   "execution_count": 38,
   "id": "78bc4375-4a76-439e-a2fc-874ba45e9a4f",
   "metadata": {},
   "outputs": [
    {
     "data": {
      "text/plain": [
       "('\\n\\nBirth Date\\nKathy Crawford May 6 1972\\n', '(737) 988-0851')"
      ]
     },
     "execution_count": 38,
     "metadata": {},
     "output_type": "execute_result"
    }
   ],
   "source": [
    "pattern = 'Patient Information(.*?)(\\(\\d{3}\\) \\d{3}-\\d{4})'\n",
    "\n",
    "matches = re.findall(pattern, text,flags=re.DOTALL)\n",
    "matches[0]"
   ]
  },
  {
   "cell_type": "code",
   "execution_count": 40,
   "id": "08223602-bd25-4a9d-88f6-8691ff694238",
   "metadata": {},
   "outputs": [
    {
     "data": {
      "text/plain": [
       "'(737) 988-0851'"
      ]
     },
     "execution_count": 40,
     "metadata": {},
     "output_type": "execute_result"
    }
   ],
   "source": [
    "matches[0][1]"
   ]
  },
  {
   "cell_type": "markdown",
   "id": "042b66e1-d73c-4010-acad-94134524a262",
   "metadata": {},
   "source": [
    "### Extract Vaccine"
   ]
  },
  {
   "cell_type": "code",
   "execution_count": 41,
   "id": "e723ff6c-f87a-4b4b-aeda-2eae283c1323",
   "metadata": {},
   "outputs": [
    {
     "data": {
      "text/plain": [
       "'No'"
      ]
     },
     "execution_count": 41,
     "metadata": {},
     "output_type": "execute_result"
    }
   ],
   "source": [
    "pattern = 'Have you had the Hepatitis B vaccination\\?.*(Yes|No)'\n",
    "\n",
    "matches = re.findall(pattern, text,flags=re.DOTALL)\n",
    "matches[0]"
   ]
  },
  {
   "cell_type": "markdown",
   "id": "c9bc06fe-706a-40af-9cb5-ec54e5ccf8b4",
   "metadata": {},
   "source": [
    "### Extract medical problems"
   ]
  },
  {
   "cell_type": "code",
   "execution_count": 43,
   "id": "72d12532-ce41-4440-93f0-519e998017a8",
   "metadata": {},
   "outputs": [
    {
     "data": {
      "text/plain": [
       "'Migraine'"
      ]
     },
     "execution_count": 43,
     "metadata": {},
     "output_type": "execute_result"
    }
   ],
   "source": [
    "pattern = 'List any Medical Problems \\(asthma, seizures, headaches\\):(.*)'\n",
    "\n",
    "matches = re.findall(pattern, text,flags=re.DOTALL)\n",
    "matches[0].strip()"
   ]
  },
  {
   "cell_type": "code",
   "execution_count": null,
   "id": "23c61510-84e9-411c-92c0-7f4bc38b2a5a",
   "metadata": {},
   "outputs": [],
   "source": []
  }
 ],
 "metadata": {
  "kernelspec": {
   "display_name": "Python 3 (ipykernel)",
   "language": "python",
   "name": "python3"
  },
  "language_info": {
   "codemirror_mode": {
    "name": "ipython",
    "version": 3
   },
   "file_extension": ".py",
   "mimetype": "text/x-python",
   "name": "python",
   "nbconvert_exporter": "python",
   "pygments_lexer": "ipython3",
   "version": "3.8.10"
  }
 },
 "nbformat": 4,
 "nbformat_minor": 5
}
